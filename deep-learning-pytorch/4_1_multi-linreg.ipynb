{
 "cells": [
  {
   "cell_type": "code",
   "execution_count": 1,
   "metadata": {},
   "outputs": [
    {
     "data": {
      "text/plain": [
       "<torch._C.Generator at 0x1d4bea8f9d0>"
      ]
     },
     "execution_count": 1,
     "metadata": {},
     "output_type": "execute_result"
    }
   ],
   "source": [
    "from torch import nn \n",
    "import torch \n",
    "torch.manual_seed(1)"
   ]
  },
  {
   "cell_type": "code",
   "execution_count": 2,
   "metadata": {},
   "outputs": [],
   "source": [
    "# Set weights and bias \n",
    "w = torch.tensor([[2.0], [3.0]], requires_grad=True) \n",
    "b = torch.tensor([[1.0]], requires_grad=True) "
   ]
  },
  {
   "cell_type": "code",
   "execution_count": 7,
   "metadata": {},
   "outputs": [],
   "source": [
    "# Define prediction function \n",
    "# Input x is a 1x2 tensor \n",
    "# Weight w is a 2x1 tensor \n",
    "# y_hat is a 1x1 tensor\n",
    "def forward(w, x, b): \n",
    "    return torch.mm(x, w) + b  ## MM is matrix multiplication \n",
    " "
   ]
  },
  {
   "cell_type": "code",
   "execution_count": 6,
   "metadata": {},
   "outputs": [
    {
     "name": "stdout",
     "output_type": "stream",
     "text": [
      "Y_hat is tensor([[9.]], grad_fn=<AddBackward0>)\n"
     ]
    }
   ],
   "source": [
    "# Calculate y_hat \n",
    "x = torch.tensor([[1.0, 2.0]]) \n",
    "y_hat = forward(w, x, b)\n",
    "print(f\"Y_hat is {y_hat}\")"
   ]
  },
  {
   "cell_type": "code",
   "execution_count": 8,
   "metadata": {},
   "outputs": [
    {
     "name": "stdout",
     "output_type": "stream",
     "text": [
      "The result: tensor([[-0.3969]], grad_fn=<AddmmBackward0>)\n"
     ]
    }
   ],
   "source": [
    "# Make a linear regression model \n",
    "model = nn.Linear(2, 1) \n",
    "\n",
    "# Make a prediction of x\n",
    "y_hat = model(x) \n",
    "print(f\"The result: {y_hat}\") "
   ]
  },
  {
   "cell_type": "code",
   "execution_count": 10,
   "metadata": {},
   "outputs": [
    {
     "name": "stdout",
     "output_type": "stream",
     "text": [
      "The result: tensor([[-0.0848],\n",
      "        [-0.3969],\n",
      "        [-0.7090]], grad_fn=<AddmmBackward0>)\n"
     ]
    }
   ],
   "source": [
    "# Predict with multiple samples X \n",
    "x = torch.tensor([[1.0, 1.0], [1.0, 2.0], [1.0, 3.0]])\n",
    "y_hat = model(x)\n",
    "print(f\"The result: {y_hat}\")"
   ]
  },
  {
   "cell_type": "code",
   "execution_count": 11,
   "metadata": {},
   "outputs": [],
   "source": [
    "# Build custom modules \n",
    "\n",
    "class LinearRegression(nn.Module): \n",
    "    # Constructor \n",
    "    def __init__(self, input_size, output_size): \n",
    "        super(LinearRegression, self).__init__() \n",
    "        self.linear = nn.Linear(input_size, output_size) \n",
    "    \n",
    "    # Prediction function \n",
    "    def forward(self, x): \n",
    "        return self.linear(x) \n",
    "    "
   ]
  },
  {
   "cell_type": "code",
   "execution_count": 12,
   "metadata": {},
   "outputs": [],
   "source": [
    "# Build a linear regression object \n",
    "model = LinearRegression(2, 1)"
   ]
  },
  {
   "cell_type": "code",
   "execution_count": 13,
   "metadata": {},
   "outputs": [
    {
     "name": "stdout",
     "output_type": "stream",
     "text": [
      "Model parameters: [Parameter containing:\n",
      "tensor([[ 0.3319, -0.6657]], requires_grad=True), Parameter containing:\n",
      "tensor([0.4241], requires_grad=True)]\n"
     ]
    }
   ],
   "source": [
    "# Parameters\n",
    "print(f\"Model parameters: {list(model.parameters())}\")"
   ]
  },
  {
   "cell_type": "code",
   "execution_count": 14,
   "metadata": {},
   "outputs": [
    {
     "name": "stdout",
     "output_type": "stream",
     "text": [
      "Model Parameters: OrderedDict([('linear.weight', tensor([[ 0.3319, -0.6657]])), ('linear.bias', tensor([0.4241]))])\n"
     ]
    }
   ],
   "source": [
    "print(f\"Model Parameters: {model.state_dict()}\")"
   ]
  },
  {
   "cell_type": "code",
   "execution_count": 15,
   "metadata": {},
   "outputs": [
    {
     "name": "stdout",
     "output_type": "stream",
     "text": [
      "Result: tensor([[ 0.0903],\n",
      "        [-0.5754],\n",
      "        [-1.2411]], grad_fn=<AddmmBackward0>)\n"
     ]
    }
   ],
   "source": [
    "# Input a 1x2 tensor, we will get a 1x1 tensor \n",
    "y_hat = model(x)\n",
    "print(f\"Result: {y_hat}\")"
   ]
  },
  {
   "cell_type": "code",
   "execution_count": null,
   "metadata": {},
   "outputs": [],
   "source": []
  }
 ],
 "metadata": {
  "kernelspec": {
   "display_name": "Python 3",
   "language": "python",
   "name": "python3"
  },
  "language_info": {
   "codemirror_mode": {
    "name": "ipython",
    "version": 3
   },
   "file_extension": ".py",
   "mimetype": "text/x-python",
   "name": "python",
   "nbconvert_exporter": "python",
   "pygments_lexer": "ipython3",
   "version": "3.11.4"
  }
 },
 "nbformat": 4,
 "nbformat_minor": 2
}
