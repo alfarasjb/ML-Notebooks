{
 "cells": [
  {
   "cell_type": "code",
   "execution_count": 1,
   "metadata": {},
   "outputs": [],
   "source": [
    "import torch \n",
    "from torch.utils.data import Dataset "
   ]
  },
  {
   "cell_type": "code",
   "execution_count": 2,
   "metadata": {},
   "outputs": [
    {
     "data": {
      "text/plain": [
       "<torch._C.Generator at 0x1e4374ff4f0>"
      ]
     },
     "execution_count": 2,
     "metadata": {},
     "output_type": "execute_result"
    }
   ],
   "source": [
    "# Set manual seed \n",
    "torch.manual_seed(1)"
   ]
  },
  {
   "cell_type": "code",
   "execution_count": 3,
   "metadata": {},
   "outputs": [],
   "source": [
    "# Create a simple dataset \n",
    "\n",
    "class ToySet(Dataset): \n",
    "    # Constructor with default values \n",
    "    def __init__(self, length: int = 100, transform = None): \n",
    "        self.len = length \n",
    "        self.x = 2 * torch.ones(length, 2) \n",
    "        self.y = torch.ones(length, 1)\n",
    "        self.transform = transform \n",
    "\n",
    "    # Getter \n",
    "    def __getitem__(self, index: int): \n",
    "        sample = self.x[index], self.y[index]\n",
    "        if self.transform: \n",
    "            sample = self.transform(sample)\n",
    "        return sample \n",
    "    \n",
    "    # Get length \n",
    "    def __len__(self): \n",
    "        return self.len "
   ]
  },
  {
   "cell_type": "code",
   "execution_count": 4,
   "metadata": {},
   "outputs": [
    {
     "name": "stdout",
     "output_type": "stream",
     "text": [
      "Value on index 0: (tensor([2., 2.]), tensor([1.]))\n"
     ]
    }
   ],
   "source": [
    "our_dataset = ToySet() \n",
    "print(f\"Value on index 0: {our_dataset[0]}\")"
   ]
  },
  {
   "cell_type": "code",
   "execution_count": 11,
   "metadata": {},
   "outputs": [],
   "source": [
    "# Create a class for transforming data \n",
    "\n",
    "from typing import Any\n",
    "\n",
    "\n",
    "class AddMult(object): \n",
    "    # Constructor \n",
    "    def __init__(self, addx = 1, muly = 2): \n",
    "        self.addx = addx \n",
    "        self.muly = muly \n",
    "    \n",
    "    # Executor \n",
    "    def __call__(self, sample):  \n",
    "        x = sample[0] \n",
    "        y = sample[1]  \n",
    "        x = x + self.addx \n",
    "        y = y * self.muly \n",
    "        sample = x, y\n",
    "        return sample "
   ]
  },
  {
   "cell_type": "code",
   "execution_count": 12,
   "metadata": {},
   "outputs": [],
   "source": [
    "# Create a transform object \n",
    "a_m = AddMult() \n",
    "dataset = ToySet() \n"
   ]
  },
  {
   "cell_type": "code",
   "execution_count": 13,
   "metadata": {},
   "outputs": [
    {
     "name": "stdout",
     "output_type": "stream",
     "text": [
      "Index: 0, X Orig: tensor([2., 2.]), Y Orig: tensor([1.])\n",
      "Index: 0, Transformed X: tensor([3., 3.]), Transformed Y: tensor([2.])\n",
      "Index: 1, X Orig: tensor([2., 2.]), Y Orig: tensor([1.])\n",
      "Index: 1, Transformed X: tensor([3., 3.]), Transformed Y: tensor([2.])\n",
      "Index: 2, X Orig: tensor([2., 2.]), Y Orig: tensor([1.])\n",
      "Index: 2, Transformed X: tensor([3., 3.]), Transformed Y: tensor([2.])\n",
      "Index: 3, X Orig: tensor([2., 2.]), Y Orig: tensor([1.])\n",
      "Index: 3, Transformed X: tensor([3., 3.]), Transformed Y: tensor([2.])\n",
      "Index: 4, X Orig: tensor([2., 2.]), Y Orig: tensor([1.])\n",
      "Index: 4, Transformed X: tensor([3., 3.]), Transformed Y: tensor([2.])\n",
      "Index: 5, X Orig: tensor([2., 2.]), Y Orig: tensor([1.])\n",
      "Index: 5, Transformed X: tensor([3., 3.]), Transformed Y: tensor([2.])\n",
      "Index: 6, X Orig: tensor([2., 2.]), Y Orig: tensor([1.])\n",
      "Index: 6, Transformed X: tensor([3., 3.]), Transformed Y: tensor([2.])\n",
      "Index: 7, X Orig: tensor([2., 2.]), Y Orig: tensor([1.])\n",
      "Index: 7, Transformed X: tensor([3., 3.]), Transformed Y: tensor([2.])\n",
      "Index: 8, X Orig: tensor([2., 2.]), Y Orig: tensor([1.])\n",
      "Index: 8, Transformed X: tensor([3., 3.]), Transformed Y: tensor([2.])\n",
      "Index: 9, X Orig: tensor([2., 2.]), Y Orig: tensor([1.])\n",
      "Index: 9, Transformed X: tensor([3., 3.]), Transformed Y: tensor([2.])\n"
     ]
    }
   ],
   "source": [
    "# Loop \n",
    "for i in range(10): \n",
    "    x, y = dataset[i] \n",
    "    print(f\"Index: {i}, X Orig: {x}, Y Orig: {y}\")\n",
    "    x_, y_ = a_m(dataset[i]) \n",
    "    print(f\"Index: {i}, Transformed X: {x_}, Transformed Y: {y_}\") "
   ]
  },
  {
   "cell_type": "code",
   "execution_count": 16,
   "metadata": {},
   "outputs": [],
   "source": [
    "# Create a new dataset with AddMult object as transform \n",
    "cust_data_set = ToySet(transform=AddMult) "
   ]
  },
  {
   "cell_type": "code",
   "execution_count": 17,
   "metadata": {},
   "outputs": [
    {
     "name": "stdout",
     "output_type": "stream",
     "text": [
      "Index: 0, Original X: tensor([2., 2.]), Original y: tensor([1.])\n"
     ]
    },
    {
     "ename": "TypeError",
     "evalue": "cannot unpack non-iterable AddMult object",
     "output_type": "error",
     "traceback": [
      "\u001b[1;31m---------------------------------------------------------------------------\u001b[0m",
      "\u001b[1;31mTypeError\u001b[0m                                 Traceback (most recent call last)",
      "Cell \u001b[1;32mIn[17], line 4\u001b[0m\n\u001b[0;32m      2\u001b[0m x, y \u001b[38;5;241m=\u001b[39m dataset[i] \n\u001b[0;32m      3\u001b[0m \u001b[38;5;28mprint\u001b[39m(\u001b[38;5;124mf\u001b[39m\u001b[38;5;124m\"\u001b[39m\u001b[38;5;124mIndex: \u001b[39m\u001b[38;5;132;01m{\u001b[39;00mi\u001b[38;5;132;01m}\u001b[39;00m\u001b[38;5;124m, Original X: \u001b[39m\u001b[38;5;132;01m{\u001b[39;00mx\u001b[38;5;132;01m}\u001b[39;00m\u001b[38;5;124m, Original y: \u001b[39m\u001b[38;5;132;01m{\u001b[39;00my\u001b[38;5;132;01m}\u001b[39;00m\u001b[38;5;124m\"\u001b[39m) \n\u001b[1;32m----> 4\u001b[0m x_, y_ \u001b[38;5;241m=\u001b[39m cust_dataset[i] \n\u001b[0;32m      5\u001b[0m \u001b[38;5;28mprint\u001b[39m(\u001b[38;5;124mf\u001b[39m\u001b[38;5;124m\"\u001b[39m\u001b[38;5;124mIndex: \u001b[39m\u001b[38;5;132;01m{\u001b[39;00mi\u001b[38;5;132;01m}\u001b[39;00m\u001b[38;5;124m, Transformed X: \u001b[39m\u001b[38;5;132;01m{\u001b[39;00mx_\u001b[38;5;132;01m}\u001b[39;00m\u001b[38;5;124m, Transformed Y: \u001b[39m\u001b[38;5;132;01m{\u001b[39;00my_\u001b[38;5;132;01m}\u001b[39;00m\u001b[38;5;124m\"\u001b[39m) \n",
      "\u001b[1;31mTypeError\u001b[0m: cannot unpack non-iterable AddMult object"
     ]
    }
   ],
   "source": [
    "\n",
    "for i in range(10): \n",
    "    x, y = dataset[i] \n",
    "    print(f\"Index: {i}, Original X: {x}, Original y: {y}\") \n",
    "    x_, y_ = cust_dataset[i] \n",
    "    print(f\"Index: {i}, Transformed X: {x_}, Transformed Y: {y_}\") "
   ]
  },
  {
   "cell_type": "code",
   "execution_count": null,
   "metadata": {},
   "outputs": [],
   "source": []
  },
  {
   "cell_type": "code",
   "execution_count": null,
   "metadata": {},
   "outputs": [],
   "source": []
  }
 ],
 "metadata": {
  "kernelspec": {
   "display_name": "Python 3",
   "language": "python",
   "name": "python3"
  },
  "language_info": {
   "codemirror_mode": {
    "name": "ipython",
    "version": 3
   },
   "file_extension": ".py",
   "mimetype": "text/x-python",
   "name": "python",
   "nbconvert_exporter": "python",
   "pygments_lexer": "ipython3",
   "version": "3.11.4"
  }
 },
 "nbformat": 4,
 "nbformat_minor": 2
}
