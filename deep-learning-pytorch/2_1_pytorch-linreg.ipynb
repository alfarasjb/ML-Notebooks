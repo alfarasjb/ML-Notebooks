{
 "cells": [
  {
   "cell_type": "code",
   "execution_count": 1,
   "metadata": {},
   "outputs": [],
   "source": [
    "import torch "
   ]
  },
  {
   "cell_type": "code",
   "execution_count": 2,
   "metadata": {},
   "outputs": [],
   "source": [
    "# Define w = 2 and b = -1 for y = wx + b \n",
    "w = torch.tensor(2.0, requires_grad=True) \n",
    "b = torch.tensor(-1.0, requires_grad=True) "
   ]
  },
  {
   "cell_type": "code",
   "execution_count": 3,
   "metadata": {},
   "outputs": [],
   "source": [
    "# Define the function `forward(x, w, b)` makes the prediction \n",
    "def forward(x): \n",
    "    y_hat = w * x + b \n",
    "    return y_hat"
   ]
  },
  {
   "cell_type": "code",
   "execution_count": 6,
   "metadata": {},
   "outputs": [
    {
     "name": "stdout",
     "output_type": "stream",
     "text": [
      "Prediction: tensor([[1.]], grad_fn=<AddBackward0>)\n"
     ]
    }
   ],
   "source": [
    "# Predict at x = 1\n",
    "x = torch.tensor([[1.0]])\n",
    "y_hat = forward(x) \n",
    "print(f\"Prediction: {y_hat}\")"
   ]
  },
  {
   "cell_type": "code",
   "execution_count": 7,
   "metadata": {},
   "outputs": [
    {
     "name": "stdout",
     "output_type": "stream",
     "text": [
      "Shape: torch.Size([2, 1])\n"
     ]
    }
   ],
   "source": [
    "# Predict multiple inputs \n",
    "# Create x Tensor and check the shape of the x Tensor \n",
    "x = torch.tensor([[1.0], [2.0]]) \n",
    "print(f\"Shape: {x.shape}\")"
   ]
  },
  {
   "cell_type": "code",
   "execution_count": 8,
   "metadata": {},
   "outputs": [
    {
     "name": "stdout",
     "output_type": "stream",
     "text": [
      "Prediction for multiple inputs: tensor([[1.],\n",
      "        [3.]], grad_fn=<AddBackward0>)\n"
     ]
    }
   ],
   "source": [
    "y_hat = forward(x) \n",
    "print(f\"Prediction for multiple inputs: {y_hat}\")"
   ]
  },
  {
   "cell_type": "code",
   "execution_count": 9,
   "metadata": {},
   "outputs": [
    {
     "data": {
      "text/plain": [
       "<torch._C.Generator at 0x2204c45b4f0>"
      ]
     },
     "execution_count": 9,
     "metadata": {},
     "output_type": "execute_result"
    }
   ],
   "source": [
    "# Can be done with the Linear class \n",
    "from torch.nn import Linear \n",
    "# Set random seed \n",
    "torch.manual_seed(1) \n"
   ]
  },
  {
   "cell_type": "code",
   "execution_count": 11,
   "metadata": {},
   "outputs": [
    {
     "name": "stdout",
     "output_type": "stream",
     "text": [
      "Parameters w and b are: [Parameter containing:\n",
      "tensor([[-0.1939]], requires_grad=True), Parameter containing:\n",
      "tensor([0.4694], requires_grad=True)]\n"
     ]
    }
   ],
   "source": [
    "# Create Linear Regression Model and print out the parameters (parmeters are randomly created) \n",
    "lr = Linear(in_features=1, out_features=1, bias=True) \n",
    "print(f\"Parameters w and b are: {list(lr.parameters())}\")"
   ]
  },
  {
   "cell_type": "code",
   "execution_count": 13,
   "metadata": {},
   "outputs": [
    {
     "name": "stdout",
     "output_type": "stream",
     "text": [
      "Dictionary: OrderedDict([('weight', tensor([[-0.1939]])), ('bias', tensor([0.4694]))])\n"
     ]
    }
   ],
   "source": [
    "# `state_dict` method returns a python dictionary object corresponding to the layers of each parameter tensor \n",
    "print(f\"Dictionary: {lr.state_dict()}\")"
   ]
  },
  {
   "cell_type": "code",
   "execution_count": 17,
   "metadata": {},
   "outputs": [
    {
     "name": "stdout",
     "output_type": "stream",
     "text": [
      "Prediction: tensor([[0.2755]], grad_fn=<AddmmBackward0>)\n"
     ]
    }
   ],
   "source": [
    "# Make single prediciton at x = [[1.0]] \n",
    "x = torch.tensor([[1.0]]) \n",
    "y_hat = lr(x) \n",
    "print(f\"Prediction: {y_hat}\")"
   ]
  },
  {
   "cell_type": "code",
   "execution_count": 18,
   "metadata": {},
   "outputs": [
    {
     "name": "stdout",
     "output_type": "stream",
     "text": [
      "Multiple prediction: tensor([[0.2755],\n",
      "        [0.0816]], grad_fn=<AddmmBackward0>)\n"
     ]
    }
   ],
   "source": [
    "# Multiple predictions \n",
    "x = torch.tensor([[1.0], [2.0]]) \n",
    "y_hat = lr(x) \n",
    "print(f\"Multiple prediction: {y_hat}\") "
   ]
  },
  {
   "cell_type": "code",
   "execution_count": 19,
   "metadata": {},
   "outputs": [],
   "source": [
    "# Building custom modules \n",
    "from torch import nn "
   ]
  },
  {
   "cell_type": "code",
   "execution_count": 20,
   "metadata": {},
   "outputs": [],
   "source": [
    "# Define the class \n",
    "\n",
    "class LR(nn.Module): \n",
    "    # constructor \n",
    "    def __init__(self, input_size, output_size): \n",
    "        # Inherit from parent \n",
    "        super(LR, self).__init__() \n",
    "        self.linear = nn.Linear(input_size, output_size) \n",
    "    \n",
    "    # Prediction function \n",
    "    def forward(self, x): \n",
    "        out = self.linear(x) \n",
    "        return out \n",
    "    "
   ]
  },
  {
   "cell_type": "code",
   "execution_count": 21,
   "metadata": {},
   "outputs": [
    {
     "name": "stdout",
     "output_type": "stream",
     "text": [
      "parameters: [Parameter containing:\n",
      "tensor([[-0.9414]], requires_grad=True), Parameter containing:\n",
      "tensor([0.5997], requires_grad=True)]\n",
      "Linear Model: Linear(in_features=1, out_features=1, bias=True)\n"
     ]
    }
   ],
   "source": [
    "# Create a linear regression model using the custom module \n",
    "lr = LR(input_size=1, output_size=1) \n",
    "print(f\"parameters: {list(lr.parameters())}\") \n",
    "print(f\"Linear Model: {lr.linear}\")"
   ]
  },
  {
   "cell_type": "code",
   "execution_count": null,
   "metadata": {},
   "outputs": [],
   "source": []
  }
 ],
 "metadata": {
  "kernelspec": {
   "display_name": "base",
   "language": "python",
   "name": "python3"
  },
  "language_info": {
   "codemirror_mode": {
    "name": "ipython",
    "version": 3
   },
   "file_extension": ".py",
   "mimetype": "text/x-python",
   "name": "python",
   "nbconvert_exporter": "python",
   "pygments_lexer": "ipython3",
   "version": "3.11.4"
  }
 },
 "nbformat": 4,
 "nbformat_minor": 2
}
