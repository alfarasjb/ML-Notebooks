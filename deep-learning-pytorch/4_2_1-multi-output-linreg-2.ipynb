{
 "cells": [
  {
   "cell_type": "code",
   "execution_count": 3,
   "metadata": {},
   "outputs": [
    {
     "data": {
      "text/plain": [
       "<torch._C.Generator at 0x21807e4c990>"
      ]
     },
     "execution_count": 3,
     "metadata": {},
     "output_type": "execute_result"
    }
   ],
   "source": [
    "import torch \n",
    "import numpy as np \n",
    "import matplotlib.pyplot as plt \n",
    "from torch import nn, optim \n",
    "from mpl_toolkits.mplot3d import Axes3D \n",
    "from torch.utils.data import Dataset, DataLoader \n",
    "torch.manual_seed(1)"
   ]
  },
  {
   "cell_type": "code",
   "execution_count": 4,
   "metadata": {},
   "outputs": [],
   "source": [
    "class Data(Dataset): \n",
    "    def __init__(self): \n",
    "        self.x = torch.zeros(20, 2) \n",
    "        self.x[:, 0] = torch.arange(-1, 1, 0.1) \n",
    "        self.x[:, 1] = torch.arange(-1, 1, 0.1) \n",
    "        self.w = torch.tensor([[1.0, -1.0], [1.0, 3.0]]) \n",
    "        self.b = torch.tensor([[1.0, -1.0]])\n",
    "        self.f = torch.mm(self.x, self.w) + self.b \n",
    "        self.y = self.f + 0.001 * torch.randn((self.x.shape[0], 1)) \n",
    "        self.len = self.x.shape[0] \n",
    "    \n",
    "    def __getitem__(self, index): \n",
    "        return self.x[index], self.y[index] \n",
    "\n",
    "    def __len__(self):\n",
    "        return self.len "
   ]
  },
  {
   "cell_type": "code",
   "execution_count": 5,
   "metadata": {},
   "outputs": [],
   "source": [
    "data_set = Data()"
   ]
  },
  {
   "cell_type": "code",
   "execution_count": 7,
   "metadata": {},
   "outputs": [],
   "source": [
    "class LinearRegression(nn.Module): \n",
    "    def __init__(self, input_size, output_size): \n",
    "        super(LinearRegression, self).__init__() \n",
    "        self.linear = nn.Linear(input_size, output_size) \n",
    "\n",
    "    def forward(self, x):\n",
    "        return self.linear(x)"
   ]
  },
  {
   "cell_type": "code",
   "execution_count": 9,
   "metadata": {},
   "outputs": [],
   "source": [
    "learning_rate = 0.1 \n",
    "model = LinearRegression(input_size=2, output_size=2)\n",
    "optimizer = optim.SGD(model.parameters(), lr=learning_rate) \n",
    "criterion = nn.MSELoss() \n",
    "train_loader = DataLoader(dataset=data_set, batch_size=5)"
   ]
  },
  {
   "cell_type": "code",
   "execution_count": 10,
   "metadata": {},
   "outputs": [],
   "source": [
    "LOSS = [] \n",
    "epochs = 100 \n",
    "for epoch in range(epochs): \n",
    "    for x, y in train_loader: \n",
    "        y_hat = model(x) \n",
    "        loss = criterion(y_hat, y) \n",
    "        LOSS.append(loss.item()) \n",
    "        optimizer.zero_grad() \n",
    "        loss.backward()\n",
    "        optimizer.step()"
   ]
  },
  {
   "cell_type": "code",
   "execution_count": 11,
   "metadata": {},
   "outputs": [
    {
     "data": {
      "text/plain": [
       "Text(0, 0.5, 'Cost/Total Loss')"
      ]
     },
     "execution_count": 11,
     "metadata": {},
     "output_type": "execute_result"
    },
    {
     "data": {
      "image/png": "[encoded data removed]",
      "text/plain": [
       "<Figure size 640x480 with 1 Axes>"
      ]
     },
     "metadata": {},
     "output_type": "display_data"
    }
   ],
   "source": [
    "plt.plot(LOSS)\n",
    "plt.xlabel(\"Iterations\")\n",
    "plt.ylabel(\"Cost/Total Loss\")"
   ]
  },
  {
   "cell_type": "code",
   "execution_count": null,
   "metadata": {},
   "outputs": [],
   "source": []
  }
 ],
 "metadata": {
  "kernelspec": {
   "display_name": "Python 3",
   "language": "python",
   "name": "python3"
  },
  "language_info": {
   "codemirror_mode": {
    "name": "ipython",
    "version": 3
   },
   "file_extension": ".py",
   "mimetype": "text/x-python",
   "name": "python",
   "nbconvert_exporter": "python",
   "pygments_lexer": "ipython3",
   "version": "3.11.4"
  }
 },
 "nbformat": 4,
 "nbformat_minor": 2
}
