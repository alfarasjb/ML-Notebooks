{
 "cells": [
  {
   "cell_type": "code",
   "execution_count": 1,
   "metadata": {},
   "outputs": [],
   "source": [
    "import tensorflow as tf \n",
    "import pandas as pd \n",
    "import numpy as np \n",
    "import time\n",
    "from sklearn.datasets import load_iris \n",
    "from sklearn.model_selection import train_test_split \n",
    "import matplotlib.pyplot as plt "
   ]
  },
  {
   "cell_type": "code",
   "execution_count": 2,
   "metadata": {},
   "outputs": [],
   "source": [
    "iris = load_iris()\n",
    "X, y = iris.data[:-1, :], iris.target[:-1] \n",
    "y = pd.get_dummies(y).values \n",
    "X_train, X_test, y_train, y_test = train_test_split(X, y, test_size=0.3, random_state=42) "
   ]
  },
  {
   "cell_type": "code",
   "execution_count": 3,
   "metadata": {},
   "outputs": [
    {
     "name": "stdout",
     "output_type": "stream",
     "text": [
      "Num features: 4\n",
      "Num labels: 3\n"
     ]
    }
   ],
   "source": [
    "num_features = X_train.shape[1] \n",
    "print(f\"Num features: {num_features}\") \n",
    "\n",
    "num_labels = y_train.shape[1] \n",
    "print(f\"Num labels: {num_labels}\") "
   ]
  },
  {
   "cell_type": "code",
   "execution_count": 4,
   "metadata": {},
   "outputs": [],
   "source": [
    "X_train = tf.constant(X_train, dtype='float32') \n",
    "y_train = tf.constant(y_train, dtype=\"float32\") \n",
    "X_test = tf.constant(X_test, dtype=\"float32\") \n",
    "y_test = tf.constant(y_test, dtype=\"float32\")"
   ]
  },
  {
   "cell_type": "code",
   "execution_count": 5,
   "metadata": {},
   "outputs": [],
   "source": [
    "# Set model weights and biases \n",
    "W = tf.Variable(tf.zeros([4, 3]))  # 4-dimensional input, 3 classes \n",
    "b = tf.Variable(tf.zeros([3]))  # 3-dimensional output \n"
   ]
  },
  {
   "cell_type": "code",
   "execution_count": 7,
   "metadata": {},
   "outputs": [],
   "source": [
    "# Randomly sample from a normal distribution with a standard deviation 0.01 \n",
    "weights = tf.Variable(tf.random.normal([num_features, num_labels], mean=0., stddev=0.01, name=\"weights\"), dtype=\"float32\") \n",
    "bias = tf.Variable(tf.random.normal([1, num_labels], mean=0, stddev=0.01, name=\"bias\")) "
   ]
  },
  {
   "cell_type": "code",
   "execution_count": 14,
   "metadata": {},
   "outputs": [],
   "source": [
    "# Logistic Regression model \n",
    "def logistic_regression(x): \n",
    "    apply_weights_op = tf.matmul(x, weights, name=\"apply_weights\") \n",
    "    add_bias_OP = tf.add(apply_weights_op, bias, name=\"add_bias\") \n",
    "    activation_OP = tf.nn.sigmoid(add_bias_OP, name=\"activation\")\n",
    "    return activation_OP"
   ]
  },
  {
   "cell_type": "code",
   "execution_count": 15,
   "metadata": {},
   "outputs": [],
   "source": [
    "# Cost Function \n",
    "epochs = 700 \n",
    "\n",
    "learning_rate = tf.keras.optimizers.schedules.ExponentialDecay(\n",
    "    initial_learning_rate=0.0008, \n",
    "    decay_steps=X_train.shape[0], \n",
    "    decay_rate=0.95, \n",
    "    staircase=True\n",
    ")"
   ]
  },
  {
   "cell_type": "code",
   "execution_count": 16,
   "metadata": {},
   "outputs": [],
   "source": [
    "loss_object = tf.keras.losses.MeanSquaredLogarithmicError() \n",
    "optimizer = tf.keras.optimizers.SGD(learning_rate) "
   ]
  },
  {
   "cell_type": "code",
   "execution_count": 17,
   "metadata": {},
   "outputs": [],
   "source": [
    "# Accuracy Metric \n",
    "def accuracy(y_pred, y_true): \n",
    "    correct_pred = tf.equal(tf.argmax(y_pred, 1), tf.argmax(y_true, 1))\n",
    "    return tf.reduce_mean(tf.cast(correct_pred, tf.float32)) "
   ]
  },
  {
   "cell_type": "code",
   "execution_count": 18,
   "metadata": {},
   "outputs": [],
   "source": [
    "# Optimization \n",
    "def run_optimization(x, y): \n",
    "    with tf.GradientTape() as g: \n",
    "        pred = logistic_regression(x) \n",
    "        loss = loss_object(pred, y) \n",
    "    gradients = g.gradient(loss, [weights, bias])\n",
    "    optimizer.apply_gradients(zip(gradients, [weights, bias])) "
   ]
  },
  {
   "cell_type": "code",
   "execution_count": 19,
   "metadata": {},
   "outputs": [
    {
     "name": "stdout",
     "output_type": "stream",
     "text": [
      "step 0, training accuracy 0.288889, loss 0.13681, change in loss 0.13681\n",
      "step 10, training accuracy 0.288889, loss 0.136272, change in loss 0.000537977\n",
      "step 20, training accuracy 0.288889, loss 0.135742, change in loss 0.000529885\n",
      "step 30, training accuracy 0.288889, loss 0.13522, change in loss 0.000521749\n",
      "step 40, training accuracy 0.288889, loss 0.134707, change in loss 0.000513703\n",
      "step 50, training accuracy 0.288889, loss 0.134201, change in loss 0.000505626\n",
      "step 60, training accuracy 0.288889, loss 0.133703, change in loss 0.000497609\n",
      "step 70, training accuracy 0.288889, loss 0.133214, change in loss 0.000489622\n",
      "step 80, training accuracy 0.288889, loss 0.132732, change in loss 0.000481695\n",
      "step 90, training accuracy 0.288889, loss 0.132258, change in loss 0.000473812\n",
      "step 100, training accuracy 0.288889, loss 0.131792, change in loss 0.000465944\n",
      "step 110, training accuracy 0.288889, loss 0.13135, change in loss 0.000442252\n",
      "step 120, training accuracy 0.288889, loss 0.130922, change in loss 0.000428334\n",
      "step 130, training accuracy 0.288889, loss 0.1305, change in loss 0.000421435\n",
      "step 140, training accuracy 0.288889, loss 0.130086, change in loss 0.000414565\n",
      "step 150, training accuracy 0.288889, loss 0.129678, change in loss 0.000407785\n",
      "step 160, training accuracy 0.288889, loss 0.129277, change in loss 0.00040102\n",
      "step 170, training accuracy 0.288889, loss 0.128882, change in loss 0.000394404\n",
      "step 180, training accuracy 0.288889, loss 0.128495, change in loss 0.000387773\n",
      "step 190, training accuracy 0.288889, loss 0.128113, change in loss 0.000381261\n",
      "step 200, training accuracy 0.288889, loss 0.127739, change in loss 0.000374809\n",
      "step 210, training accuracy 0.288889, loss 0.127376, change in loss 0.000362962\n",
      "step 220, training accuracy 0.288889, loss 0.127031, change in loss 0.000344262\n",
      "step 230, training accuracy 0.288889, loss 0.126693, change in loss 0.000338629\n",
      "step 240, training accuracy 0.288889, loss 0.12636, change in loss 0.000333115\n",
      "step 250, training accuracy 0.288889, loss 0.126032, change in loss 0.000327632\n",
      "step 260, training accuracy 0.288889, loss 0.12571, change in loss 0.000322223\n",
      "step 270, training accuracy 0.288889, loss 0.125393, change in loss 0.000316888\n",
      "step 280, training accuracy 0.288889, loss 0.125081, change in loss 0.000311628\n",
      "step 290, training accuracy 0.288889, loss 0.124775, change in loss 0.00030645\n",
      "step 300, training accuracy 0.288889, loss 0.124473, change in loss 0.000301309\n",
      "step 310, training accuracy 0.288889, loss 0.124177, change in loss 0.000296295\n",
      "step 320, training accuracy 0.288889, loss 0.123899, change in loss 0.000278309\n",
      "step 330, training accuracy 0.288889, loss 0.123626, change in loss 0.000272408\n",
      "step 340, training accuracy 0.288889, loss 0.123358, change in loss 0.000268057\n",
      "step 350, training accuracy 0.288889, loss 0.123095, change in loss 0.000263788\n",
      "step 360, training accuracy 0.288889, loss 0.122835, change in loss 0.000259534\n",
      "step 370, training accuracy 0.288889, loss 0.12258, change in loss 0.000255376\n",
      "step 380, training accuracy 0.288889, loss 0.122328, change in loss 0.000251286\n",
      "step 390, training accuracy 0.288889, loss 0.122081, change in loss 0.00024724\n",
      "step 400, training accuracy 0.288889, loss 0.121838, change in loss 0.000243261\n",
      "step 410, training accuracy 0.288889, loss 0.121599, change in loss 0.00023935\n",
      "step 420, training accuracy 0.288889, loss 0.121369, change in loss 0.000229649\n",
      "step 430, training accuracy 0.288889, loss 0.121149, change in loss 0.000220321\n",
      "step 440, training accuracy 0.288889, loss 0.120932, change in loss 0.000216939\n",
      "step 450, training accuracy 0.288889, loss 0.120718, change in loss 0.000213608\n",
      "step 460, training accuracy 0.288889, loss 0.120508, change in loss 0.00021036\n",
      "step 470, training accuracy 0.288889, loss 0.120301, change in loss 0.000207148\n",
      "step 480, training accuracy 0.288889, loss 0.120097, change in loss 0.000203989\n",
      "step 490, training accuracy 0.288889, loss 0.119896, change in loss 0.000200883\n",
      "step 500, training accuracy 0.288889, loss 0.119698, change in loss 0.00019782\n",
      "step 510, training accuracy 0.288889, loss 0.119503, change in loss 0.000194803\n",
      "step 520, training accuracy 0.288889, loss 0.119312, change in loss 0.000190906\n",
      "step 530, training accuracy 0.288889, loss 0.119133, change in loss 0.000179574\n",
      "step 540, training accuracy 0.288889, loss 0.118956, change in loss 0.000176981\n",
      "step 550, training accuracy 0.288889, loss 0.118781, change in loss 0.000174448\n",
      "step 560, training accuracy 0.288889, loss 0.118609, change in loss 0.000171937\n",
      "step 570, training accuracy 0.288889, loss 0.11844, change in loss 0.000169478\n",
      "step 580, training accuracy 0.288889, loss 0.118273, change in loss 0.000167042\n",
      "step 590, training accuracy 0.288889, loss 0.118108, change in loss 0.000164673\n",
      "step 600, training accuracy 0.288889, loss 0.117946, change in loss 0.000162311\n",
      "step 610, training accuracy 0.288889, loss 0.117786, change in loss 0.000160031\n",
      "step 620, training accuracy 0.288889, loss 0.117628, change in loss 0.000157721\n",
      "step 630, training accuracy 0.288889, loss 0.117478, change in loss 0.000150114\n",
      "step 640, training accuracy 0.288889, loss 0.117332, change in loss 0.000145748\n",
      "step 650, training accuracy 0.288889, loss 0.117188, change in loss 0.000143819\n",
      "step 660, training accuracy 0.288889, loss 0.117046, change in loss 0.000141904\n",
      "step 670, training accuracy 0.288889, loss 0.116906, change in loss 0.000139989\n",
      "step 680, training accuracy 0.288889, loss 0.116768, change in loss 0.000138141\n",
      "step 690, training accuracy 0.288889, loss 0.116632, change in loss 0.000136316\n",
      "final accuracy on test set: 0.2888889\n"
     ]
    }
   ],
   "source": [
    "# Initialize Reporting Variabls \n",
    "display_step = 10 \n",
    "epoch_values = [] \n",
    "accuracy_values = [] \n",
    "loss_values = [] \n",
    "loss = 0 \n",
    "diff = 1\n",
    "\n",
    "# Training epochs \n",
    "for i in range(epochs): \n",
    "    if i > 1 and diff < 0.0001: \n",
    "        print(f\"Change in loss{diff} convergence\")\n",
    "        break \n",
    "    else: \n",
    "        # Run training step \n",
    "        run_optimization(X_train, y_train) \n",
    "        \n",
    "        # Report occasional stats \n",
    "        if i % display_step == 0: \n",
    "            # Add epoch to epoch_values \n",
    "            epoch_values.append(i) \n",
    "            pred = logistic_regression(X_test)\n",
    "            new_loss = loss_object(pred, y_test) \n",
    "            loss_values.append(new_loss) \n",
    "            # Generate accuracy stats on test data \n",
    "            acc = accuracy(pred, y_test) \n",
    "            accuracy_values.append(acc) \n",
    "\n",
    "            # Re assign values for variables \n",
    "            diff = abs(new_loss - loss)\n",
    "            loss = new_loss \n",
    "            # Generate print statements \n",
    "            print(\"step %d, training accuracy %g, loss %g, change in loss %g\"%(i, acc, new_loss, diff))\n",
    "\n",
    "# How well do we perform on held-out test data?\n",
    "print(\"final accuracy on test set: %s\" %acc.numpy())\n"
   ]
  },
  {
   "cell_type": "code",
   "execution_count": 20,
   "metadata": {},
   "outputs": [
    {
     "data": {
      "image/png": "[encoded data removed]",
      "text/plain": [
       "<Figure size 640x480 with 1 Axes>"
      ]
     },
     "metadata": {},
     "output_type": "display_data"
    }
   ],
   "source": [
    "%matplotlib inline \n",
    "plt.xlabel(\"Epoch\")\n",
    "plt.ylabel(\"Loss\")\n",
    "plt.plot(loss_values)\n",
    "plt.show()"
   ]
  },
  {
   "cell_type": "code",
   "execution_count": null,
   "metadata": {},
   "outputs": [],
   "source": []
  }
 ],
 "metadata": {
  "kernelspec": {
   "display_name": "Python 3",
   "language": "python",
   "name": "python3"
  },
  "language_info": {
   "codemirror_mode": {
    "name": "ipython",
    "version": 3
   },
   "file_extension": ".py",
   "mimetype": "text/x-python",
   "name": "python",
   "nbconvert_exporter": "python",
   "pygments_lexer": "ipython3",
   "version": "3.11.4"
  }
 },
 "nbformat": 4,
 "nbformat_minor": 2
}
