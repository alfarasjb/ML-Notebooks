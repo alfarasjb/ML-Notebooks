{
 "cells": [
  {
   "cell_type": "code",
   "execution_count": 7,
   "metadata": {},
   "outputs": [],
   "source": [
    "import keras \n",
    "from keras import Sequential \n",
    "from keras.layers import Dense, Conv2D, MaxPooling2D, Flatten\n",
    "from keras.utils import to_categorical \n",
    "from keras.datasets import mnist \n"
   ]
  },
  {
   "cell_type": "code",
   "execution_count": 9,
   "metadata": {},
   "outputs": [],
   "source": [
    "(X_train, y_train), (X_test, y_test) = mnist.load_data()  \n",
    "X_train = X_train.reshape(X_train.shape[0], 28, 28, 1).astype('float32') \n",
    "X_test = X_test.reshape(X_test.shape[0], 28, 28, 1).astype('float32') "
   ]
  },
  {
   "cell_type": "code",
   "execution_count": 10,
   "metadata": {},
   "outputs": [],
   "source": [
    "# Normalize pixel values between 0 and 1 \n",
    "X_train = X_train / 255 \n",
    "X_test = X_test / 255 "
   ]
  },
  {
   "cell_type": "code",
   "execution_count": 11,
   "metadata": {},
   "outputs": [],
   "source": [
    "# Convert target to categorical \n",
    "y_train = to_categorical(y_train) \n",
    "y_test = to_categorical(y_test)\n",
    "num_classes = y_test.shape[1] "
   ]
  },
  {
   "cell_type": "code",
   "execution_count": 12,
   "metadata": {},
   "outputs": [],
   "source": [
    "# Create Model \n",
    "def convolution_model(): \n",
    "    model = Sequential() \n",
    "    model.add(Conv2D(16, (5, 5), strides=(1, 1), activation='relu', input_shape=(28, 28, 1)))\n",
    "    model.add(MaxPooling2D(pool_size=(2, 2), strides=(2, 2))) \n",
    "\n",
    "    model.add(Flatten()) \n",
    "    model.add(Dense(100, activation='relu')) \n",
    "    model.add(Dense(num_classes, activation='softmax')) \n",
    "\n",
    "    model.compile(optimizer='adam', loss='categorical_crossentropy', metrics=['accuracy'])\n",
    "    return model "
   ]
  },
  {
   "cell_type": "code",
   "execution_count": 13,
   "metadata": {},
   "outputs": [
    {
     "name": "stderr",
     "output_type": "stream",
     "text": [
      "c:\\Users\\Windows\\AppData\\Local\\Programs\\Python\\Python311\\Lib\\site-packages\\keras\\src\\layers\\convolutional\\base_conv.py:107: UserWarning: Do not pass an `input_shape`/`input_dim` argument to a layer. When using Sequential models, prefer using an `Input(shape)` object as the first layer in the model instead.\n",
      "  super().__init__(activity_regularizer=activity_regularizer, **kwargs)\n"
     ]
    },
    {
     "name": "stdout",
     "output_type": "stream",
     "text": [
      "Epoch 1/10\n",
      "300/300 - 25s - 85ms/step - accuracy: 0.9163 - loss: 0.2990 - val_accuracy: 0.9663 - val_loss: 0.1170\n",
      "Epoch 2/10\n",
      "300/300 - 4s - 12ms/step - accuracy: 0.9729 - loss: 0.0939 - val_accuracy: 0.9804 - val_loss: 0.0665\n",
      "Epoch 3/10\n",
      "300/300 - 4s - 13ms/step - accuracy: 0.9815 - loss: 0.0630 - val_accuracy: 0.9816 - val_loss: 0.0555\n",
      "Epoch 4/10\n",
      "300/300 - 4s - 14ms/step - accuracy: 0.9853 - loss: 0.0490 - val_accuracy: 0.9833 - val_loss: 0.0478\n",
      "Epoch 5/10\n",
      "300/300 - 4s - 14ms/step - accuracy: 0.9880 - loss: 0.0391 - val_accuracy: 0.9848 - val_loss: 0.0441\n",
      "Epoch 6/10\n",
      "300/300 - 4s - 13ms/step - accuracy: 0.9902 - loss: 0.0324 - val_accuracy: 0.9850 - val_loss: 0.0416\n",
      "Epoch 7/10\n",
      "300/300 - 4s - 13ms/step - accuracy: 0.9913 - loss: 0.0275 - val_accuracy: 0.9873 - val_loss: 0.0381\n",
      "Epoch 8/10\n",
      "300/300 - 4s - 14ms/step - accuracy: 0.9931 - loss: 0.0227 - val_accuracy: 0.9872 - val_loss: 0.0427\n",
      "Epoch 9/10\n",
      "300/300 - 4s - 14ms/step - accuracy: 0.9939 - loss: 0.0193 - val_accuracy: 0.9879 - val_loss: 0.0358\n",
      "Epoch 10/10\n",
      "300/300 - 4s - 14ms/step - accuracy: 0.9947 - loss: 0.0166 - val_accuracy: 0.9872 - val_loss: 0.0420\n",
      "Accuracy: 0.9872000217437744 \n",
      " Error: 1.2799978256225586\n"
     ]
    }
   ],
   "source": [
    "# Build Model \n",
    "model = convolution_model() \n",
    "\n",
    "# Fit \n",
    "model.fit(X_train, y_train, validation_data=(X_test, y_test), epochs=10, batch_size=200, verbose=2)\n",
    "\n",
    "# Evaluate \n",
    "scores = model.evaluate(X_test, y_test, verbose=0)\n",
    "print(\"Accuracy: {} \\n Error: {}\".format(scores[1], 100-scores[1]*100)) "
   ]
  },
  {
   "cell_type": "code",
   "execution_count": 14,
   "metadata": {},
   "outputs": [],
   "source": [
    "def conv_model(): \n",
    "    model = Sequential() \n",
    "    model.add(Conv2D(16, (5, 5), activation='relu', input_shape=(28, 28, 1)))\n",
    "    model.add(MaxPooling2D(pool_size=(2, 2), strides=(2, 2))) \n",
    "\n",
    "    model.add(Conv2D(8, (2, 2), activation='relu'))\n",
    "    model.add(MaxPooling2D(pool_size=(2, 2), strides=(2, 2))) \n",
    "\n",
    "    model.add(Flatten()) \n",
    "    model.add(Dense(100, activation='relu'))\n",
    "    model.add(Dense(num_classes, activation='softmax')) \n",
    "\n",
    "    model.compile(optimizer='adam', loss='categorical_crossentropy', metrics=['accuracy'])\n",
    "    return model "
   ]
  },
  {
   "cell_type": "code",
   "execution_count": 15,
   "metadata": {},
   "outputs": [
    {
     "name": "stderr",
     "output_type": "stream",
     "text": [
      "c:\\Users\\Windows\\AppData\\Local\\Programs\\Python\\Python311\\Lib\\site-packages\\keras\\src\\layers\\convolutional\\base_conv.py:107: UserWarning: Do not pass an `input_shape`/`input_dim` argument to a layer. When using Sequential models, prefer using an `Input(shape)` object as the first layer in the model instead.\n",
      "  super().__init__(activity_regularizer=activity_regularizer, **kwargs)\n"
     ]
    },
    {
     "name": "stdout",
     "output_type": "stream",
     "text": [
      "Epoch 1/10\n",
      "300/300 - 5s - 17ms/step - accuracy: 0.8598 - loss: 0.4867 - val_accuracy: 0.9552 - val_loss: 0.1498\n",
      "Epoch 2/10\n",
      "300/300 - 5s - 15ms/step - accuracy: 0.9641 - loss: 0.1198 - val_accuracy: 0.9765 - val_loss: 0.0813\n",
      "Epoch 3/10\n",
      "300/300 - 4s - 15ms/step - accuracy: 0.9740 - loss: 0.0852 - val_accuracy: 0.9798 - val_loss: 0.0638\n",
      "Epoch 4/10\n",
      "300/300 - 4s - 12ms/step - accuracy: 0.9783 - loss: 0.0702 - val_accuracy: 0.9815 - val_loss: 0.0582\n",
      "Epoch 5/10\n",
      "300/300 - 4s - 12ms/step - accuracy: 0.9821 - loss: 0.0588 - val_accuracy: 0.9830 - val_loss: 0.0502\n",
      "Epoch 6/10\n",
      "300/300 - 4s - 12ms/step - accuracy: 0.9839 - loss: 0.0513 - val_accuracy: 0.9835 - val_loss: 0.0502\n",
      "Epoch 7/10\n",
      "300/300 - 4s - 12ms/step - accuracy: 0.9857 - loss: 0.0452 - val_accuracy: 0.9853 - val_loss: 0.0448\n",
      "Epoch 8/10\n",
      "300/300 - 4s - 12ms/step - accuracy: 0.9876 - loss: 0.0399 - val_accuracy: 0.9857 - val_loss: 0.0449\n",
      "Epoch 9/10\n",
      "300/300 - 4s - 13ms/step - accuracy: 0.9879 - loss: 0.0374 - val_accuracy: 0.9882 - val_loss: 0.0398\n",
      "Epoch 10/10\n",
      "300/300 - 4s - 12ms/step - accuracy: 0.9896 - loss: 0.0338 - val_accuracy: 0.9874 - val_loss: 0.0423\n",
      "Accuracy: 0.9873999953269958 \n",
      " Error: 1.260000467300415\n"
     ]
    }
   ],
   "source": [
    "model = conv_model() \n",
    "\n",
    "model.fit(X_train, y_train, validation_data=(X_test, y_test), epochs=10, batch_size=200, verbose=2) \n",
    "\n",
    "scores = model.evaluate(X_test, y_test, verbose=0) \n",
    "print(\"Accuracy: {} \\n Error: {}\".format(scores[1], 100-scores[1]*100))\n"
   ]
  },
  {
   "cell_type": "code",
   "execution_count": null,
   "metadata": {},
   "outputs": [],
   "source": []
  }
 ],
 "metadata": {
  "kernelspec": {
   "display_name": "Python 3",
   "language": "python",
   "name": "python3"
  },
  "language_info": {
   "codemirror_mode": {
    "name": "ipython",
    "version": 3
   },
   "file_extension": ".py",
   "mimetype": "text/x-python",
   "name": "python",
   "nbconvert_exporter": "python",
   "pygments_lexer": "ipython3",
   "version": "3.11.4"
  }
 },
 "nbformat": 4,
 "nbformat_minor": 2
}
