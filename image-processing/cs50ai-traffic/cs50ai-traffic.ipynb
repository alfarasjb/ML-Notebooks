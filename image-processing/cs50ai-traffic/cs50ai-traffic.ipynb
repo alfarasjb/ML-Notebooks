{
 "cells": [
  {
   "cell_type": "code",
   "execution_count": 1,
   "metadata": {},
   "outputs": [],
   "source": [
    "# ! curl -L -o gtsrb.zip https://cdn.cs50.net/ai/2023/x/projects/5/gtsrb.zip\n",
    "# ! unzip gtsrb.zip"
   ]
  },
  {
   "cell_type": "code",
   "execution_count": 1,
   "metadata": {},
   "outputs": [],
   "source": [
    "# Import Dependencies \n",
    "import os \n",
    "import cv2 \n",
    "import numpy as np \n",
    "from tqdm import tqdm \n",
    "\n",
    "from typing import List, Tuple, Generator, Any \n",
    "\n",
    "import torch \n",
    "import torch.nn as nn\n",
    "from torch.utils.data import IterableDataset, DataLoader "
   ]
  },
  {
   "cell_type": "code",
   "execution_count": 2,
   "metadata": {},
   "outputs": [],
   "source": [
    "# Constants \n",
    "IMG_WIDTH = 30 \n",
    "IMG_HEIGHT = 30 \n",
    "TEST_SIZE = 0.3 \n",
    "NUM_CATEGORIES = 43"
   ]
  },
  {
   "cell_type": "code",
   "execution_count": 37,
   "metadata": {},
   "outputs": [],
   "source": [
    "def load_data(train: bool = False) -> Generator[Any, Any, Any]: \n",
    "    \"\"\" \n",
    "    Helper function \n",
    "\n",
    "    Loads images from directory \n",
    "    \"\"\" \n",
    "    data_dir = \"gtsrb\"\n",
    "    directories = os.listdir(data_dir)   \n",
    "    for directory in directories: \n",
    "        img_folder = os.path.join(data_dir, directory) \n",
    "        image_files = os.listdir(img_folder)  \n",
    "        train_size = int((1 - TEST_SIZE) * (len(image_files))) \n",
    "        print(train_size)\n",
    "        if train: \n",
    "            files = image_files[:train_size]\n",
    "        else:\n",
    "            files = image_files[train_size:]  \n",
    "\n",
    "        for image in files: \n",
    "            image_path = os.path.join(img_folder, image)\n",
    "            image_contents = cv2.imread(image_path) \n",
    "            image_contents = cv2.resize(image_contents, (IMG_WIDTH, IMG_HEIGHT)) \n",
    "            image_contents = np.array(image_contents, dtype='float')  \n",
    "            image_contents = np.transpose(image_contents, (2, 0, 1)) \n",
    "            # Normalize pixel values if needed (optional)\n",
    "            image_contents /= 255.0  # Normalize pixel values to range [0, 1]\n",
    "\n",
    "            # Convert to PyTorch tensor\n",
    "            image_tensor = torch.tensor(image_contents, dtype=torch.float32)\n",
    "            yield (image_tensor, directory)"
   ]
  },
  {
   "cell_type": "code",
   "execution_count": 38,
   "metadata": {},
   "outputs": [],
   "source": [
    "class Dataset(IterableDataset):\n",
    "    def __init__(self, generator): \n",
    "        self.generator = generator \n",
    "    \n",
    "    def __iter__(self): \n",
    "        return iter(self.generator) \n",
    "\n",
    "dataset = Dataset(load_data()) "
   ]
  },
  {
   "cell_type": "code",
   "execution_count": 39,
   "metadata": {},
   "outputs": [],
   "source": [
    "train_loader = DataLoader(dataset=Dataset(load_data(train=True)), batch_size=10)  \n",
    "test_loader = DataLoader(dataset=Dataset(load_data(train=False)), batch_size=100)"
   ]
  },
  {
   "cell_type": "code",
   "execution_count": 40,
   "metadata": {},
   "outputs": [],
   "source": [
    "class CNN(nn.Module): \n",
    "    def __init__(self, out_1=16, out_2=32):\n",
    "        super(CNN, self).__init__() \n",
    "        # input (30, 30, 3)\n",
    "        self.cnn1 = nn.Conv2d(in_channels=3, out_channels=out_1, kernel_size=5, padding=2)  # Output: (30, 30, out_1)\n",
    "        self.maxpool1 = nn.MaxPool2d(kernel_size=2)  # Output (15, 15, out_1)\n",
    "\n",
    "        self.cnn2 = nn.Conv2d(in_channels=out_1, out_channels=out_2, kernel_size=5, stride=1, padding=2)  # Output(15, 15, out_2)\n",
    "        self.maxpool2 = nn.MaxPool2d(kernel_size=2)  # Output(7, 7, out_2)\n",
    "\n",
    "        self.fc1 = nn.Linear(out_2 * 7 * 7, NUM_CATEGORIES)\n",
    "\n",
    "    def forward(self, x): \n",
    "        x = self.cnn1(x) \n",
    "        x = torch.relu(x)\n",
    "        x = self.maxpool1(x)\n",
    "        x = self.cnn2(x)\n",
    "        x = torch.relu(x)\n",
    "        x = self.maxpool2(x)\n",
    "        x = self.view(x.size(0), -1)\n",
    "        x = self.fc1(x)\n",
    "        return x \n",
    "    \n",
    "    def activations(self, x): \n",
    "        z1 = self.cnn1(x)\n",
    "        a1 = torch.relu(z1) \n",
    "        out = self.maxpool1(a1) \n",
    "\n",
    "        z2 = self.cnn2(out)\n",
    "        a2 = torch.relu(z2)\n",
    "        out1 = self.maxpool2(a2) \n",
    "        out = out.view(out.size(0), -1)\n",
    "        return z1, a1, z2, a2, out1, out\n",
    "    \n",
    "model = CNN(out_1=16, out_2=32)"
   ]
  },
  {
   "cell_type": "code",
   "execution_count": null,
   "metadata": {},
   "outputs": [],
   "source": []
  },
  {
   "cell_type": "code",
   "execution_count": 41,
   "metadata": {},
   "outputs": [],
   "source": [
    "# Criterion \n",
    "criterion = nn.CrossEntropyLoss() \n",
    "learning_rate = 0.1 \n",
    "optimizer = torch.optim.SGD(model.parameters(), lr=learning_rate)"
   ]
  },
  {
   "cell_type": "code",
   "execution_count": 56,
   "metadata": {},
   "outputs": [],
   "source": [
    "import matplotlib.pyplot as plt\n",
    "import numpy as np\n",
    "\n",
    "def show_data(data):\n",
    "    image, label = data\n",
    "    print(image.shape)\n",
    "    print(image.dtype)\n",
    "    \n",
    "    # Convert from tensor to numpy\n",
    "    image = image.numpy()\n",
    "    \n",
    "    # Reshape the image from (C, H, W) to (H, W, C)\n",
    "    image = np.transpose(image, (1, 2, 0))\n",
    "    \n",
    "    # If the image was normalized, denormalize it (optional)\n",
    "    if image.max() <= 1.0:\n",
    "        image = image * 255.0  # Rescale to original range\n",
    "    \n",
    "    # Convert to uint8 if necessary\n",
    "    image = image.astype(np.uint8)\n",
    "    \n",
    "    plt.imshow(image)\n",
    "    plt.title(label)\n",
    "    plt.axis('off')  # Turn off axis\n",
    "    plt.show()\n",
    "\n",
    "# Example usage\n",
    "# Assuming `data` is a tuple (image_tensor, label)\n",
    "# show_data((image_tensor, 'Example Label'))\n"
   ]
  },
  {
   "cell_type": "code",
   "execution_count": null,
   "metadata": {},
   "outputs": [],
   "source": []
  },
  {
   "cell_type": "code",
   "execution_count": null,
   "metadata": {},
   "outputs": [],
   "source": []
  },
  {
   "cell_type": "code",
   "execution_count": null,
   "metadata": {},
   "outputs": [],
   "source": []
  },
  {
   "cell_type": "code",
   "execution_count": null,
   "metadata": {},
   "outputs": [],
   "source": []
  },
  {
   "cell_type": "code",
   "execution_count": null,
   "metadata": {},
   "outputs": [],
   "source": []
  },
  {
   "cell_type": "code",
   "execution_count": null,
   "metadata": {},
   "outputs": [],
   "source": []
  },
  {
   "cell_type": "code",
   "execution_count": null,
   "metadata": {},
   "outputs": [],
   "source": []
  }
 ],
 "metadata": {
  "kernelspec": {
   "display_name": "Python 3",
   "language": "python",
   "name": "python3"
  },
  "language_info": {
   "codemirror_mode": {
    "name": "ipython",
    "version": 3
   },
   "file_extension": ".py",
   "mimetype": "text/x-python",
   "name": "python",
   "nbconvert_exporter": "python",
   "pygments_lexer": "ipython3",
   "version": "3.11.4"
  }
 },
 "nbformat": 4,
 "nbformat_minor": 2
}
